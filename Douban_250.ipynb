{
 "cells": [
  {
   "cell_type": "code",
   "execution_count": 5,
   "metadata": {},
   "outputs": [
    {
     "data": {
      "text/plain": [
       "'text/javascript'"
      ]
     },
     "execution_count": 5,
     "metadata": {},
     "output_type": "execute_result"
    }
   ],
   "source": [
    "from urllib import request as req\n",
    "from bs4 import BeautifulSoup\n",
    "\n",
    "url = 'https://movie.douban.com/subject/26683723/?from=showing'\n",
    "url_visit = req.urlopen(url).read()\n",
    "url_decode = url_visit.decode('utf8')\n",
    "\n",
    "soup = BeautifulSoup(url_decode,'html.parser')\n",
    "soup.find('script')['type']\n"
   ]
  }
 ],
 "metadata": {
  "kernelspec": {
   "display_name": "Python 3",
   "language": "python",
   "name": "python3"
  },
  "language_info": {
   "codemirror_mode": {
    "name": "ipython",
    "version": 3
   },
   "file_extension": ".py",
   "mimetype": "text/x-python",
   "name": "python",
   "nbconvert_exporter": "python",
   "pygments_lexer": "ipython3",
   "version": "3.6.4"
  }
 },
 "nbformat": 4,
 "nbformat_minor": 2
}
