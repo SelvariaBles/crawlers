{
 "cells": [
  {
   "cell_type": "code",
   "execution_count": 12,
   "metadata": {
    "scrolled": true
   },
   "outputs": [
    {
     "name": "stdout",
     "output_type": "stream",
     "text": [
      "市场名称 规格 价格条件 2018-05-24 2018-05-25 2018-05-28 涨跌 付款方式 单位 备注 图表 对比\n",
      "地区\n",
      "纽约NYMEX WTI 结算价 70.71 67.88 67.88 0.00 美元/桶 休市 查看\n",
      "伦敦ICE 布伦特 结算价 78.79 76.44 75.30 ↓-1.14 美元/桶 7月合约 查看\n",
      "全球 中国原油 结算价 483 480.60 464.30 ↓-16.30 元/桶 1809合约 查看\n",
      "中东 欧佩克油 现货价 76.62 74.87 美元/桶 查看\n",
      "伦敦ICE 布伦特DTD 三种原油混合价 79.04 76.43 76.43 0.00 估测价 美元/桶 休市 查看\n",
      "新加坡 迪拜油 现货价 77.05 75.75 73.20 ↓-2.55 美元/桶 查看\n",
      "俄罗斯 ESPO 现货价 79.40 78.15 75.85 ↓-2.30 美元/桶 查看\n",
      "迪拜地区\n",
      "迪拜DME 阿曼油 期货收盘价 77.22 75.84 73.62 ↓-2.22 期货市场价 美元/桶 查看\n"
     ]
    }
   ],
   "source": [
    "from selenium import webdriver\n",
    "\n",
    "browser = webdriver.Chrome()\n",
    "browser.get('http://price.sci99.com/view/priceview.aspx?pagename=energyview&classid=1590&pricetypeid=26&RequestId=66f6c58cbb5ff28c')\n",
    "browser.find_element_by_xpath('//*[@id=\"LogInPart1_SciName\"]').send_keys('jusure2016')#用户名\n",
    "browser.find_element_by_xpath('//*[@id=\"LogInPart1_SciPwd\"]').send_keys('jusure2017')#密码\n",
    "browser.find_element_by_xpath('//*[@id=\"LogInPart1_IB_Login\"]').click()\n",
    "#browser.find_element_by_xpath('//*[@id=\"LogInPart1_IB_Login\"]').submit()\n",
    "\n",
    "import requests\n",
    "req = requests.Session()\n",
    "cookies = browser.get_cookies()\n",
    "for cookie in cookies:\n",
    "    req.cookies.set(cookie['name'],cookie['value'])#将selenium形式的cookies转换为requests可用的，这里先写上\n",
    "#req.get('')#测试用\n",
    "\n",
    "columes_id = browser.find_element_by_id('divContents')\n",
    "#columes_id = browser.find_element_by_css_selector('table.datatable') #往上一级找，或者按上面一行按id找\n",
    "#columes_tr = columes_id.find_element_by_tag_name('tr')\n",
    "#columes_td = columes_tr.find_elements_by_tag_name('td')\n",
    "columes_str = columes_id.text\n",
    "print(columes_str)\n",
    "#print(columes_id.text)"
   ]
  },
  {
   "cell_type": "code",
   "execution_count": 3,
   "metadata": {},
   "outputs": [
    {
     "name": "stdout",
     "output_type": "stream",
     "text": [
      "[['市场名称', '规格', '价格条件', '2018-05-24', '2018-05-25', '2018-05-28', '涨跌', '付款方式', '单位', '备注', '图表', '对比'], ['地区'], ['纽约NYMEX', 'WTI', '结算价', '70.71', '67.88', '67.88', '0.00', '美元/桶', '休市', '查看'], ['伦敦ICE', '布伦特', '结算价', '78.79', '76.44', '75.30', '↓-1.14', '美元/桶', '7月合约', '查看'], ['全球', '中国原油', '结算价', '483', '480.60', '464.30', '↓-16.30', '元/桶', '1809合约', '查看'], ['中东', '欧佩克油', '现货价', '76.62', '74.87', '美元/桶', '查看'], ['伦敦ICE', '布伦特DTD', '三种原油混合价', '79.04', '76.43', '76.43', '0.00', '估测价', '美元/桶', '休市', '查看'], ['新加坡', '迪拜油', '现货价', '77.05', '75.75', '73.20', '↓-2.55', '美元/桶', '查看'], ['俄罗斯', 'ESPO', '现货价', '79.40', '78.15', '75.85', '↓-2.30', '美元/桶', '查看'], ['迪拜地区'], ['迪拜DME', '阿曼油', '期货收盘价', '77.22', '75.84', '73.62', '↓-2.22', '期货市场价', '美元/桶', '查看']]\n"
     ]
    }
   ],
   "source": [
    "columes_row = columes_str.split('\\n')\n",
    "columes_table = []\n",
    "for colume in columes_row:\n",
    "    colume_i=colume.split()\n",
    "    columes_table.append(colume_i)\n",
    "print(columes_table)"
   ]
  },
  {
   "cell_type": "code",
   "execution_count": 4,
   "metadata": {
    "collapsed": true
   },
   "outputs": [],
   "source": [
    "import csv\n",
    "import pandas\n",
    "with open('original_oil_price_by_day.csv','w') as f:\n",
    "    writer = csv.writer(f)\n",
    "    writer.writerows(columes_table)#同时写入多行，单行用writerow([])"
   ]
  },
  {
   "cell_type": "code",
   "execution_count": 7,
   "metadata": {
    "scrolled": true
   },
   "outputs": [
    {
     "data": {
      "text/html": [
       "<div>\n",
       "<style>\n",
       "    .dataframe thead tr:only-child th {\n",
       "        text-align: right;\n",
       "    }\n",
       "\n",
       "    .dataframe thead th {\n",
       "        text-align: left;\n",
       "    }\n",
       "\n",
       "    .dataframe tbody tr th {\n",
       "        vertical-align: top;\n",
       "    }\n",
       "</style>\n",
       "<table border=\"1\" class=\"dataframe\">\n",
       "  <thead>\n",
       "    <tr style=\"text-align: right;\">\n",
       "      <th></th>\n",
       "      <th>市场名称</th>\n",
       "      <th>规格</th>\n",
       "      <th>价格条件</th>\n",
       "      <th>2018-05-24</th>\n",
       "      <th>2018-05-25</th>\n",
       "      <th>2018-05-28</th>\n",
       "      <th>涨跌</th>\n",
       "      <th>付款方式</th>\n",
       "      <th>单位</th>\n",
       "      <th>备注</th>\n",
       "      <th>图表</th>\n",
       "      <th>对比</th>\n",
       "    </tr>\n",
       "  </thead>\n",
       "  <tbody>\n",
       "    <tr>\n",
       "      <th>0</th>\n",
       "      <td>地区</td>\n",
       "      <td>NaN</td>\n",
       "      <td>NaN</td>\n",
       "      <td>NaN</td>\n",
       "      <td>NaN</td>\n",
       "      <td>NaN</td>\n",
       "      <td>NaN</td>\n",
       "      <td>NaN</td>\n",
       "      <td>NaN</td>\n",
       "      <td>NaN</td>\n",
       "      <td>NaN</td>\n",
       "      <td>NaN</td>\n",
       "    </tr>\n",
       "    <tr>\n",
       "      <th>1</th>\n",
       "      <td>纽约NYMEX</td>\n",
       "      <td>WTI</td>\n",
       "      <td>结算价</td>\n",
       "      <td>70.71</td>\n",
       "      <td>67.88</td>\n",
       "      <td>67.88</td>\n",
       "      <td>0.00</td>\n",
       "      <td>美元/桶</td>\n",
       "      <td>休市</td>\n",
       "      <td>查看</td>\n",
       "      <td>NaN</td>\n",
       "      <td>NaN</td>\n",
       "    </tr>\n",
       "    <tr>\n",
       "      <th>2</th>\n",
       "      <td>伦敦ICE</td>\n",
       "      <td>布伦特</td>\n",
       "      <td>结算价</td>\n",
       "      <td>78.79</td>\n",
       "      <td>76.44</td>\n",
       "      <td>75.30</td>\n",
       "      <td>↓-1.14</td>\n",
       "      <td>美元/桶</td>\n",
       "      <td>7月合约</td>\n",
       "      <td>查看</td>\n",
       "      <td>NaN</td>\n",
       "      <td>NaN</td>\n",
       "    </tr>\n",
       "    <tr>\n",
       "      <th>3</th>\n",
       "      <td>全球</td>\n",
       "      <td>中国原油</td>\n",
       "      <td>结算价</td>\n",
       "      <td>483.00</td>\n",
       "      <td>480.60</td>\n",
       "      <td>464.30</td>\n",
       "      <td>↓-16.30</td>\n",
       "      <td>元/桶</td>\n",
       "      <td>1809合约</td>\n",
       "      <td>查看</td>\n",
       "      <td>NaN</td>\n",
       "      <td>NaN</td>\n",
       "    </tr>\n",
       "    <tr>\n",
       "      <th>4</th>\n",
       "      <td>中东</td>\n",
       "      <td>欧佩克油</td>\n",
       "      <td>现货价</td>\n",
       "      <td>76.62</td>\n",
       "      <td>74.87</td>\n",
       "      <td>美元/桶</td>\n",
       "      <td>查看</td>\n",
       "      <td>NaN</td>\n",
       "      <td>NaN</td>\n",
       "      <td>NaN</td>\n",
       "      <td>NaN</td>\n",
       "      <td>NaN</td>\n",
       "    </tr>\n",
       "    <tr>\n",
       "      <th>5</th>\n",
       "      <td>伦敦ICE</td>\n",
       "      <td>布伦特DTD</td>\n",
       "      <td>三种原油混合价</td>\n",
       "      <td>79.04</td>\n",
       "      <td>76.43</td>\n",
       "      <td>76.43</td>\n",
       "      <td>0.00</td>\n",
       "      <td>估测价</td>\n",
       "      <td>美元/桶</td>\n",
       "      <td>休市</td>\n",
       "      <td>查看</td>\n",
       "      <td>NaN</td>\n",
       "    </tr>\n",
       "    <tr>\n",
       "      <th>6</th>\n",
       "      <td>新加坡</td>\n",
       "      <td>迪拜油</td>\n",
       "      <td>现货价</td>\n",
       "      <td>77.05</td>\n",
       "      <td>75.75</td>\n",
       "      <td>73.20</td>\n",
       "      <td>↓-2.55</td>\n",
       "      <td>美元/桶</td>\n",
       "      <td>查看</td>\n",
       "      <td>NaN</td>\n",
       "      <td>NaN</td>\n",
       "      <td>NaN</td>\n",
       "    </tr>\n",
       "    <tr>\n",
       "      <th>7</th>\n",
       "      <td>俄罗斯</td>\n",
       "      <td>ESPO</td>\n",
       "      <td>现货价</td>\n",
       "      <td>79.40</td>\n",
       "      <td>78.15</td>\n",
       "      <td>75.85</td>\n",
       "      <td>↓-2.30</td>\n",
       "      <td>美元/桶</td>\n",
       "      <td>查看</td>\n",
       "      <td>NaN</td>\n",
       "      <td>NaN</td>\n",
       "      <td>NaN</td>\n",
       "    </tr>\n",
       "    <tr>\n",
       "      <th>8</th>\n",
       "      <td>迪拜地区</td>\n",
       "      <td>NaN</td>\n",
       "      <td>NaN</td>\n",
       "      <td>NaN</td>\n",
       "      <td>NaN</td>\n",
       "      <td>NaN</td>\n",
       "      <td>NaN</td>\n",
       "      <td>NaN</td>\n",
       "      <td>NaN</td>\n",
       "      <td>NaN</td>\n",
       "      <td>NaN</td>\n",
       "      <td>NaN</td>\n",
       "    </tr>\n",
       "    <tr>\n",
       "      <th>9</th>\n",
       "      <td>迪拜DME</td>\n",
       "      <td>阿曼油</td>\n",
       "      <td>期货收盘价</td>\n",
       "      <td>77.22</td>\n",
       "      <td>75.84</td>\n",
       "      <td>73.62</td>\n",
       "      <td>↓-2.22</td>\n",
       "      <td>期货市场价</td>\n",
       "      <td>美元/桶</td>\n",
       "      <td>查看</td>\n",
       "      <td>NaN</td>\n",
       "      <td>NaN</td>\n",
       "    </tr>\n",
       "  </tbody>\n",
       "</table>\n",
       "</div>"
      ],
      "text/plain": [
       "      市场名称      规格     价格条件  2018-05-24  2018-05-25 2018-05-28       涨跌  \\\n",
       "0       地区     NaN      NaN         NaN         NaN        NaN      NaN   \n",
       "1  纽约NYMEX     WTI      结算价       70.71       67.88      67.88     0.00   \n",
       "2    伦敦ICE     布伦特      结算价       78.79       76.44      75.30   ↓-1.14   \n",
       "3       全球    中国原油      结算价      483.00      480.60     464.30  ↓-16.30   \n",
       "4       中东    欧佩克油      现货价       76.62       74.87       美元/桶       查看   \n",
       "5    伦敦ICE  布伦特DTD  三种原油混合价       79.04       76.43      76.43     0.00   \n",
       "6      新加坡     迪拜油      现货价       77.05       75.75      73.20   ↓-2.55   \n",
       "7      俄罗斯    ESPO      现货价       79.40       78.15      75.85   ↓-2.30   \n",
       "8     迪拜地区     NaN      NaN         NaN         NaN        NaN      NaN   \n",
       "9    迪拜DME     阿曼油    期货收盘价       77.22       75.84      73.62   ↓-2.22   \n",
       "\n",
       "    付款方式      单位   备注   图表  对比  \n",
       "0    NaN     NaN  NaN  NaN NaN  \n",
       "1   美元/桶      休市   查看  NaN NaN  \n",
       "2   美元/桶    7月合约   查看  NaN NaN  \n",
       "3    元/桶  1809合约   查看  NaN NaN  \n",
       "4    NaN     NaN  NaN  NaN NaN  \n",
       "5    估测价    美元/桶   休市   查看 NaN  \n",
       "6   美元/桶      查看  NaN  NaN NaN  \n",
       "7   美元/桶      查看  NaN  NaN NaN  \n",
       "8    NaN     NaN  NaN  NaN NaN  \n",
       "9  期货市场价    美元/桶   查看  NaN NaN  "
      ]
     },
     "execution_count": 7,
     "metadata": {},
     "output_type": "execute_result"
    }
   ],
   "source": [
    "data = pandas.read_csv('original_oil_price_by_day.csv',encoding = 'gb2312')#注意解码问题\n",
    "#如果显示乱码，data=pandas.to_csv(name.csv.encoding = 'utf-8')\n",
    "data"
   ]
  },
  {
   "cell_type": "code",
   "execution_count": 19,
   "metadata": {},
   "outputs": [
    {
     "name": "stdout",
     "output_type": "stream",
     "text": [
      "市场名称 规格 价格条件 4-30 至 5-4\n",
      "第18周 5-7 至 5-11\n",
      "第19周 5-14 至 5-18\n",
      "第20周 5-21 至 5-25\n",
      "第21周 涨跌 付款方式 单位 图表 对比\n",
      "地区\n",
      "纽约NYMEX WTI 结算价 68.38 70.60 71.31 70.96 ↓-0.35 美元/桶 查看\n",
      "伦敦ICE 布伦特 结算价 74.03 76.56 78.75 78.76 ↑0.01 美元/桶 查看\n",
      "全球 中国原油 结算价 442.86 462.20 475.06 483.38 ↑8.32 元/桶 查看\n",
      "中东 欧佩克油 现货价 70.73 73.46 75.61 76.26 ↑0.65 美元/桶 查看\n",
      "伦敦ICE 布伦特DTD 三种原油混合价 74.13 76.14 78.76 78.62 ↓-0.14 估测价 美元/桶 查看\n",
      "新加坡 迪拜油 现货价 70.28 73.58 75.59 76.63 ↑1.04 美元/桶 查看\n",
      "俄罗斯 ESPO 现货价 73.14 75.77 78.28 79.04 ↑0.76 美元/桶 查看\n",
      "迪拜地区\n",
      "迪拜DME 阿曼油 期货收盘价 70.70 72.96 75.60 76.72 ↑1.12 期货市场价 美元/桶 查看\n"
     ]
    }
   ],
   "source": [
    "import time\n",
    "browser = webdriver.Chrome()\n",
    "browser.get('http://price.sci99.com/view/priceview.aspx?pagename=energyview&classid=1590&pricetypeid=26&RequestId=66f6c58cbb5ff28c')\n",
    "browser.find_element_by_xpath('//*[@id=\"LogInPart1_SciName\"]').send_keys('jusure2016')#用户名\n",
    "browser.find_element_by_xpath('//*[@id=\"LogInPart1_SciPwd\"]').send_keys('jusure2017')#密码\n",
    "browser.find_element_by_xpath('//*[@id=\"LogInPart1_IB_Login\"]').click()\n",
    "#browser.find_element_by_xpath('//*[@id=\"LogInPart1_IB_Login\"]').submit()\n",
    "browser.find_element_by_xpath('//*[@id=\"priceweek\"]').click()\n",
    "\n",
    "time.sleep(14)\n",
    "\n",
    "columes_id_w = browser.find_element_by_id('divContents')\n",
    "columes_str_w = columes_id_w.text\n",
    "print(columes_str_w)\n",
    "#print(columes_id_w)"
   ]
  },
  {
   "cell_type": "code",
   "execution_count": 31,
   "metadata": {},
   "outputs": [
    {
     "name": "stdout",
     "output_type": "stream",
     "text": [
      "[['纽约NYMEX', 'WTI', '结算价', '68.38', '70.60', '71.31', '70.96', '↓-0.35', '美元/桶', '查看'], ['伦敦ICE', '布伦特', '结算价', '74.03', '76.56', '78.75', '78.76', '↑0.01', '美元/桶', '查看'], ['全球', '中国原油', '结算价', '442.86', '462.20', '475.06', '483.38', '↑8.32', '元/桶', '查看'], ['中东', '欧佩克油', '现货价', '70.73', '73.46', '75.61', '76.26', '↑0.65', '美元/桶', '查看'], ['伦敦ICE', '布伦特DTD', '三种原油混合价', '74.13', '76.14', '78.76', '78.62', '↓-0.14', '估测价', '美元/桶', '查看'], ['新加坡', '迪拜油', '现货价', '70.28', '73.58', '75.59', '76.63', '↑1.04', '美元/桶', '查看'], ['俄罗斯', 'ESPO', '现货价', '73.14', '75.77', '78.28', '79.04', '↑0.76', '美元/桶', '查看'], ['迪拜地区'], ['迪拜DME', '阿曼油', '期货收盘价', '70.70', '72.96', '75.60', '76.72', '↑1.12', '期货市场价', '美元/桶', '查看']]\n"
     ]
    }
   ],
   "source": [
    "import csv\n",
    "import pandas\n",
    "\n",
    "columes_row = columes_str_w.split('\\n')\n",
    "columes_table = []\n",
    "columes_row_o = columes_row[6:]\n",
    "\n",
    "#不提取表头w\n",
    "for colume in columes_row_o:\n",
    "    colume_i=colume.split()\n",
    "    columes_table.append(colume_i)\n",
    "print(columes_table)"
   ]
  },
  {
   "cell_type": "code",
   "execution_count": 32,
   "metadata": {
    "collapsed": true
   },
   "outputs": [],
   "source": [
    "with open('original_oil_price_by_week.csv','w') as f:\n",
    "    writer = csv.writer(f)\n",
    "    writer.writerows(columes_table)"
   ]
  },
  {
   "cell_type": "code",
   "execution_count": 34,
   "metadata": {},
   "outputs": [
    {
     "name": "stdout",
     "output_type": "stream",
     "text": [
      "市场名称 规格 价格条件 2018年1月 2018年2月 2018年3月 2018年4月 涨跌 付款方式 单位 图表 对比\n",
      "地区\n",
      "纽约NYMEX WTI 结算价 63.55 62.16 62.87 66.33 ↑3.46 美元/桶 查看\n",
      "伦敦ICE 布伦特 结算价 68.98 65.73 66.88 71.76 ↑4.88 美元/桶 查看\n",
      "全球 中国原油 结算价 418.18 424.81 ↑6.63 元/桶 查看\n",
      "中东 欧佩克油 现货价 66.75 63.48 63.85 68.43 ↑4.58 美元/桶 查看\n",
      "伦敦ICE 布伦特DTD 三种原油混合价 69.06 65.19 65.97 71.59 ↑5.62 估测价 美元/桶 查看\n",
      "新加坡 迪拜油 现货价 66.11 62.67 62.86 68.26 ↑5.40 美元/桶 查看\n",
      "俄罗斯 ESPO 现货价 70.39 66.81 66.52 70.96 ↑4.44 美元/桶 查看\n",
      "迪拜地区\n",
      "迪拜DME 阿曼油 期货收盘价 66.22 63.01 63.41 68.31 ↑4.90 期货市场价 美元/桶 查看\n"
     ]
    }
   ],
   "source": [
    "import time\n",
    "browser = webdriver.Chrome()\n",
    "browser.get('http://price.sci99.com/view/priceview.aspx?pagename=energyview&classid=1590&pricetypeid=26&RequestId=66f6c58cbb5ff28c')\n",
    "browser.find_element_by_xpath('//*[@id=\"LogInPart1_SciName\"]').send_keys('jusure2016')#用户名\n",
    "browser.find_element_by_xpath('//*[@id=\"LogInPart1_SciPwd\"]').send_keys('jusure2017')#密码\n",
    "browser.find_element_by_xpath('//*[@id=\"LogInPart1_IB_Login\"]').click()\n",
    "#browser.find_element_by_xpath('//*[@id=\"LogInPart1_IB_Login\"]').submit()\n",
    "browser.find_element_by_xpath('//*[@id=\"pricemonth\"]').click()\n",
    "\n",
    "time.sleep(14)\n",
    "\n",
    "columes_id_m = browser.find_element_by_id('divContents')\n",
    "columes_str_m = columes_id_m.text\n",
    "print(columes_str_m)\n",
    "#print(columes_id_w)"
   ]
  },
  {
   "cell_type": "code",
   "execution_count": 35,
   "metadata": {
    "collapsed": true
   },
   "outputs": [],
   "source": [
    "columes_row = columes_str_m.split('\\n')\n",
    "columes_table = []\n",
    "for colume in columes_row:\n",
    "    colume_i=colume.split()\n",
    "    columes_table.append(colume_i)\n",
    "\n",
    "with open('original_oil_price_by_month.csv','w') as f:\n",
    "    writer = csv.writer(f)\n",
    "    writer.writerows(columes_table)"
   ]
  }
 ],
 "metadata": {
  "kernelspec": {
   "display_name": "Python 3",
   "language": "python",
   "name": "python3"
  },
  "language_info": {
   "codemirror_mode": {
    "name": "ipython",
    "version": 3
   },
   "file_extension": ".py",
   "mimetype": "text/x-python",
   "name": "python",
   "nbconvert_exporter": "python",
   "pygments_lexer": "ipython3",
   "version": "3.6.2"
  }
 },
 "nbformat": 4,
 "nbformat_minor": 2
}
