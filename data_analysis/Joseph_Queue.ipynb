{
 "cells": [
  {
   "cell_type": "code",
   "execution_count": 4,
   "metadata": {},
   "outputs": [
    {
     "name": "stdout",
     "output_type": "stream",
     "text": [
      "3\n"
     ]
    }
   ],
   "source": [
    "class Queue:  \n",
    "    def __init__(self):  \n",
    "        self.items = []  \n",
    "   \n",
    " #入队操作  \n",
    "    def enqueue(self, item):  \n",
    "        self.items.append(item)  \n",
    "   \n",
    " #出队操作  \n",
    "    def dequeue(self):  \n",
    "        return self.items.pop(0)  \n",
    "   \n",
    "  #判断队是否为空  \n",
    "    def empty(self):  \n",
    "        return self.size() == 0  \n",
    "   \n",
    " #返回队中元素个数  \n",
    "    def size(self):  \n",
    "        return len(self.items) \n",
    "    \n",
    "#----------------应用-------------------\n",
    "def josephus(namelist, num):  #num即为num的倍数出列-1\n",
    "    simqueue = Queue()  \n",
    "    for name in namelist:  \n",
    "        simqueue.enqueue(name)  \n",
    "       #人名全部压入队  \n",
    "   \n",
    "    while simqueue.size() > 1:  \n",
    "        for i in range(num):             #range返回从0开始的num个迭代序列  \n",
    "           simqueue.enqueue(simqueue.dequeue())  \n",
    "        #前N个指定人数依次出队，再依次入队  \n",
    "   \n",
    "        simqueue.dequeue()  \n",
    "      #第N+1个出队  \n",
    "   \n",
    "    return simqueue.dequeue()  \n",
    "  #返回第N+1个出队的人名  \n",
    "   \n",
    "if __name__ =='__main__':  \n",
    "    print(josephus(range(5), 2))  #有range(5)队列，3的倍数出队，最后剩的数字"
   ]
  }
 ],
 "metadata": {
  "kernelspec": {
   "display_name": "Python 3",
   "language": "python",
   "name": "python3"
  },
  "language_info": {
   "codemirror_mode": {
    "name": "ipython",
    "version": 3
   },
   "file_extension": ".py",
   "mimetype": "text/x-python",
   "name": "python",
   "nbconvert_exporter": "python",
   "pygments_lexer": "ipython3",
   "version": "3.5.4"
  }
 },
 "nbformat": 4,
 "nbformat_minor": 2
}
