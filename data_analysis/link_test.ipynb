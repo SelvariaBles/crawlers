{
 "cells": [
  {
   "cell_type": "code",
   "execution_count": 14,
   "metadata": {},
   "outputs": [
    {
     "name": "stdout",
     "output_type": "stream",
     "text": [
      "四川省成都市国家高新技术产业开发区天府一街360号两江国际\n"
     ]
    }
   ],
   "source": [
    "from bs4 import BeautifulSoup\n",
    "import requests\n",
    "import time\n",
    "import random\n",
    "\n",
    "headers = {'User-Agent':'Mozilla/5.0 (Windows NT 6.1) AppleWebKit/537.36 (KHTML, like Gecko) Chrome/41.0.2228.0 Safari/537.36'}\n",
    "\n",
    "link_url ='http://cd.xiaozhu.com/fangzi/28904572501.html'\n",
    "link = requests.get(link_url,headers = headers).content\n",
    "soup2 = BeautifulSoup(link,'html.parser')\n",
    "time.sleep(random.randint(1,4))\n",
    "house_title0 = soup2.find('div',attrs = {'class':'pho_info'})\n",
    "#house_title =house_title0.find('em').get_text()\n",
    "address_h = soup2.find(class_=\"pho_info\")\n",
    "address = address_h.find('p')['title']\n",
    "score = soup2.find(class_=\"score-rate\").get_text()\n",
    "print(address)"
   ]
  }
 ],
 "metadata": {
  "kernelspec": {
   "display_name": "Python 3",
   "language": "python",
   "name": "python3"
  },
  "language_info": {
   "codemirror_mode": {
    "name": "ipython",
    "version": 3
   },
   "file_extension": ".py",
   "mimetype": "text/x-python",
   "name": "python",
   "nbconvert_exporter": "python",
   "pygments_lexer": "ipython3",
   "version": "3.6.4"
  }
 },
 "nbformat": 4,
 "nbformat_minor": 2
}
