{
 "cells": [
  {
   "cell_type": "code",
   "execution_count": 6,
   "metadata": {},
   "outputs": [
    {
     "name": "stdout",
     "output_type": "stream",
     "text": [
      "0.946666666667\n"
     ]
    }
   ],
   "source": [
    "from sklearn import neighbors\n",
    "from sklearn.model_selection import cross_val_score \n",
    "from sklearn import linear_model\n",
    "import numpy as np\n",
    "import pandas as pd\n",
    "\n",
    "iris = pd.read_csv(\"E:/data/iris.data.csv\")\n",
    "features = ['petal_length']\n",
    "X = iris[features] #也可以这样写：X=iris[['petal_length']] #注意是两个括号\n",
    "y = iris['species']\n",
    "\n",
    "knn = neighbors.KNeighborsClassifier(5,weights = 'uniform') #构造好了knn型的分类器\n",
    "\n",
    "scores = cross_val_score(knn,X,y,cv = 5,scoring = 'accuracy')#分类时使用accuracy评分，回归用线性neg_mean_absolute_error\n",
    "\n",
    "print(np.mean(scores))"
   ]
  },
  {
   "cell_type": "code",
   "execution_count": 8,
   "metadata": {},
   "outputs": [
    {
     "name": "stdout",
     "output_type": "stream",
     "text": [
      "0.152293217811\n"
     ]
    }
   ],
   "source": [
    "#此处使用线性回归作为下个cell的参照\n",
    "features = ['petal_length','sepal_length','sepal_width']\n",
    "lm = linear_model.LinearRegression() #构造了代表线性回归的一个类\n",
    "X = iris[features] #X=iris['petal_length']\n",
    "y = iris['petal_width']\n",
    "#print(X.shape,y.shape)\n",
    "model = lm.fit(X,y)\n",
    "#y = -0.0139 + 0.4499 * x1 + (-0.08 * x2)\n",
    "scores = -cross_val_score(lm,X,y,cv = 5,scoring = 'neg_mean_absolute_error')#默认输出是负数，添加负号后，值越小越好\n",
    "print(np.mean(scores))"
   ]
  },
  {
   "cell_type": "code",
   "execution_count": 19,
   "metadata": {},
   "outputs": [
    {
     "name": "stdout",
     "output_type": "stream",
     "text": [
      "0.152952380952\n"
     ]
    }
   ],
   "source": [
    "knn_huigui = neighbors.KNeighborsRegressor(7,weights = 'uniform')\n",
    "scores = -cross_val_score(knn_huigui,X,y,cv = 5,scoring = 'neg_mean_absolute_error')\n",
    "print(np.mean(scores))\n",
    "model = knn_huigui.fit(X,y)"
   ]
  },
  {
   "cell_type": "code",
   "execution_count": 20,
   "metadata": {},
   "outputs": [
    {
     "name": "stdout",
     "output_type": "stream",
     "text": [
      "0.188666666667\n"
     ]
    }
   ],
   "source": [
    "from sklearn import tree #一般只用于分类，不推荐回归用\n",
    "dt = tree.DecisionTreeRegressor()#这里使用默认方法分叉，也可以自行设定条件\n",
    "\n",
    "features = ['petal_length','sepal_length','sepal_width']\n",
    "X = iris[features] #X=iris['petal_length']\n",
    "y = iris['petal_width']\n",
    "\n",
    "scores = -cross_val_score(dt,X,y,cv = 5,scoring =  'neg_mean_absolute_error')\n",
    "print(np.mean(scores))"
   ]
  },
  {
   "cell_type": "code",
   "execution_count": 15,
   "metadata": {},
   "outputs": [
    {
     "name": "stdout",
     "output_type": "stream",
     "text": [
      "0.933333333333\n"
     ]
    }
   ],
   "source": [
    "from sklearn import tree #一般只用于分类\n",
    "dt = tree.DecisionTreeClassifier()#这里使用默认方法分叉，也可以自行设定条件\n",
    "\n",
    "features = ['petal_length','sepal_length','sepal_width']\n",
    "X = iris[features] #X=iris['petal_length']\n",
    "y = iris['species']\n",
    "\n",
    "scores = cross_val_score(dt,X,y,cv = 5,scoring = 'accuracy')\n",
    "print(np.mean(scores))"
   ]
  },
  {
   "cell_type": "code",
   "execution_count": 16,
   "metadata": {},
   "outputs": [
    {
     "name": "stdout",
     "output_type": "stream",
     "text": [
      "0.94\n"
     ]
    }
   ],
   "source": [
    "from sklearn import ensemble #随机森林，推荐算法\n",
    "\n",
    "rf = ensemble.RandomForestClassifier(10)#10为随机决策树的数量，因为是随机选取，每次算的结果可能不一样\n",
    "\n",
    "features = ['petal_length','sepal_length','sepal_width']\n",
    "X = iris[features] #X=iris['petal_length']\n",
    "y = iris['species']\n",
    "\n",
    "scores = cross_val_score(rf,X,y,cv = 5,scoring = 'accuracy')\n",
    "print(np.mean(scores))"
   ]
  },
  {
   "cell_type": "code",
   "execution_count": 18,
   "metadata": {},
   "outputs": [
    {
     "name": "stdout",
     "output_type": "stream",
     "text": [
      "0.154104988662\n"
     ]
    }
   ],
   "source": [
    "rf = ensemble.RandomForestRegressor(14) #随机森林回归\n",
    "\n",
    "features = ['petal_length','sepal_length','sepal_width']\n",
    "X = iris[features] #X=iris['petal_length']\n",
    "y = iris['petal_width']\n",
    "model = rf.fit(X,y)\n",
    "\n",
    "scores = -cross_val_score(rf,X,y,cv = 5,scoring = 'neg_mean_absolute_error')\n",
    "print(np.mean(scores)) #虽然结果没有线性回归和k近邻算法好，但是比单独决策树好很多"
   ]
  }
 ],
 "metadata": {
  "kernelspec": {
   "display_name": "Python 3",
   "language": "python",
   "name": "python3"
  },
  "language_info": {
   "codemirror_mode": {
    "name": "ipython",
    "version": 3
   },
   "file_extension": ".py",
   "mimetype": "text/x-python",
   "name": "python",
   "nbconvert_exporter": "python",
   "pygments_lexer": "ipython3",
   "version": "3.5.4"
  }
 },
 "nbformat": 4,
 "nbformat_minor": 2
}
