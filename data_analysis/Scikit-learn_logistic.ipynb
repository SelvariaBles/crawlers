{
 "cells": [
  {
   "cell_type": "code",
   "execution_count": 1,
   "metadata": {},
   "outputs": [
    {
     "name": "stdout",
     "output_type": "stream",
     "text": [
      "(150, 1) (150,)\n",
      "[ 0.76666667  0.83333333  0.73333333  0.8         0.8       ]\n",
      "0.786666666667\n",
      "['Iris-virginica']\n"
     ]
    }
   ],
   "source": [
    "from sklearn import linear_model\n",
    "import pandas\n",
    "from sklearn.model_selection import cross_val_score\n",
    "import numpy as np\n",
    "\n",
    "lm = linear_model.LogisticRegression() #构造了代表二分类（logistic）方法\n",
    "iris = pandas.read_csv(\"E:/data/iris.data.csv\")\n",
    "\n",
    "#--------------------------------------分割线内是将Species这个字段由字符串类型转变为数值类型，但好像不做这步也可以\n",
    "#from sklearn.preprocessing import LabelEncoder  #需要将Species这个字段由字符串类型转变为数值类型，以表示不同的类别\n",
    "#le=LabelEncoder()  #初始化label\n",
    "#le.fit(iris['Species'])\n",
    "#y=le.transform(iris['Species']) #用离散值转化标签值\n",
    "#-------------------------------------------------------\n",
    "\n",
    "features = ['petal_length']\n",
    "X = iris[features] #也可以这样写：X=iris[['petal_length']] #注意是两个括号\n",
    "y = iris['species'] #注意与线性回归的区别，这里要判断分类\n",
    "print(X.shape,y.shape)\n",
    "model = lm.fit(X,y)#建模，预测用\n",
    "scores = cross_val_score(lm,X,y,cv = 5,scoring = 'accuracy')#这里默认输出是正数，注意和线性回归的区别\n",
    "print(scores)\n",
    "print(np.mean(scores))\n",
    "print(model.predict(5.6))\n",
    "#print(y)"
   ]
  },
  {
   "cell_type": "code",
   "execution_count": 2,
   "metadata": {},
   "outputs": [
    {
     "name": "stdout",
     "output_type": "stream",
     "text": [
      "(150, 4) (150,)\n",
      "0.96\n",
      "     petal_length  sepal_length  sepal_width  petal_width\n",
      "53            4.0           5.5          2.3          1.3\n",
      "27            1.5           5.2          3.5          0.2\n",
      "134           5.6           6.1          2.6          1.4\n",
      "76            4.8           6.8          2.8          1.4\n"
     ]
    }
   ],
   "source": [
    "features = ['petal_length','sepal_length','sepal_width','petal_width']#将四个特征值全部作为x进行判断分类的依据，准确率大幅提高\n",
    "lm = linear_model.LogisticRegression() #构造了代表二分类（logistic）方法\n",
    "X = iris[features] #也可以这样写：X=iris[['petal_length']] #注意是两个括号\n",
    "y = iris['species'] #注意与线性回归的区别\n",
    "print(X.shape,y.shape)\n",
    "model = lm.fit(X,y)\n",
    "scores = cross_val_score(lm,X,y,cv = 5,scoring = 'accuracy')#这里默认输出是正数，注意和线性回归的区别\n",
    "#print(scores)\n",
    "print(np.mean(scores))\n",
    "print(X.sample(4))"
   ]
  },
  {
   "cell_type": "code",
   "execution_count": 3,
   "metadata": {},
   "outputs": [
    {
     "name": "stdout",
     "output_type": "stream",
     "text": [
      "   petal_length  petal_width  sepal_length  sepal_width\n",
      "0           5.7          2.5           6.7          3.3\n"
     ]
    },
    {
     "data": {
      "text/plain": [
       "array(['Iris-virginica'], dtype=object)"
      ]
     },
     "execution_count": 3,
     "metadata": {},
     "output_type": "execute_result"
    }
   ],
   "source": [
    "data = {'petal_length':[5.7],'sepal_length':[6.7],'sepal_width':[3.3],'petal_width':[2.5]}#注意构建表\n",
    "p = pandas.DataFrame(data)\n",
    "print(p)\n",
    "model.predict(p)"
   ]
  }
 ],
 "metadata": {
  "kernelspec": {
   "display_name": "Python 3",
   "language": "python",
   "name": "python3"
  },
  "language_info": {
   "codemirror_mode": {
    "name": "ipython",
    "version": 3
   },
   "file_extension": ".py",
   "mimetype": "text/x-python",
   "name": "python",
   "nbconvert_exporter": "python",
   "pygments_lexer": "ipython3",
   "version": "3.5.4"
  }
 },
 "nbformat": 4,
 "nbformat_minor": 2
}
