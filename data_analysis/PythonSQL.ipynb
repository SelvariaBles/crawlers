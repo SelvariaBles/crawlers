{
 "cells": [
  {
   "cell_type": "code",
   "execution_count": 4,
   "metadata": {},
   "outputs": [
    {
     "name": "stdout",
     "output_type": "stream",
     "text": [
      "{'species': 'Iris-setosa', 'petal_length': 1.5, 'petal_width': 0.2, 'id': 4, 'sepal_width': 3.1, 'sepal_length': 4.6}\n"
     ]
    }
   ],
   "source": [
    "import pymysql.cursors\n",
    "\n",
    "connection = pymysql.connect(host ='127.0.0.1',user = 'root',password = 'lp580225',db = 'iris', cursorclass = pymysql.cursors.DictCursor)\n",
    "#charset = '', cursorclass = ''一般不设定，如果cursorclass不设定则返回值没有表头\n",
    "try:\n",
    "    with connection.cursor() as cursor:\n",
    "        sql = \"SELECT * FROM `iris_copy_withid` WHERE `id` = %s\"\n",
    "        cursor.execute(sql,('4',))\n",
    "        result = cursor.fetchone()\n",
    "        print(result)\n",
    "finally:\n",
    "    connection.close()                           \n",
    "                             \n",
    "                             "
   ]
  }
 ],
 "metadata": {
  "kernelspec": {
   "display_name": "Python 3",
   "language": "python",
   "name": "python3"
  },
  "language_info": {
   "codemirror_mode": {
    "name": "ipython",
    "version": 3
   },
   "file_extension": ".py",
   "mimetype": "text/x-python",
   "name": "python",
   "nbconvert_exporter": "python",
   "pygments_lexer": "ipython3",
   "version": "3.5.4"
  }
 },
 "nbformat": 4,
 "nbformat_minor": 2
}
