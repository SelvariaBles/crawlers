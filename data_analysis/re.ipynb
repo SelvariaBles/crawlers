{
 "cells": [
  {
   "cell_type": "code",
   "execution_count": 26,
   "metadata": {},
   "outputs": [
    {
     "name": "stdout",
     "output_type": "stream",
     "text": [
      "OK\n"
     ]
    }
   ],
   "source": [
    "import re\n",
    "def is_valid_email(addr):\n",
    "    if re.match(r'[a-zA-Z0-9.]+@\\w+.com',addr):#注意不用加【】\n",
    "        return True\n",
    "    else:\n",
    "        return False\n",
    "\n",
    "assert is_valid_email('someone@gmail.com')\n",
    "assert is_valid_email('bill.gates@microsoft.com')\n",
    "assert not is_valid_email('bob#example.com')\n",
    "assert not is_valid_email('mr-bob@example.com')\n",
    "print('OK')\n"
   ]
  },
  {
   "cell_type": "code",
   "execution_count": 21,
   "metadata": {},
   "outputs": [
    {
     "data": {
      "text/plain": [
       "<_sre.SRE_Match object; span=(0, 17), match='someone@gmail.com'>"
      ]
     },
     "execution_count": 21,
     "metadata": {},
     "output_type": "execute_result"
    }
   ],
   "source": [
    "addr1 = 'someone@gmail.com'\n",
    "re.match(r'[a-zA-Z0-9.]+@\\w+.com',addr1)"
   ]
  },
  {
   "cell_type": "code",
   "execution_count": 10,
   "metadata": {},
   "outputs": [
    {
     "data": {
      "text/plain": [
       "<_sre.SRE_Match object; span=(0, 6), match='adf123'>"
      ]
     },
     "execution_count": 10,
     "metadata": {},
     "output_type": "execute_result"
    }
   ],
   "source": [
    "re.match(r'[0-9a-zA-Z]+', 'adf123')"
   ]
  }
 ],
 "metadata": {
  "kernelspec": {
   "display_name": "Python 3",
   "language": "python",
   "name": "python3"
  },
  "language_info": {
   "codemirror_mode": {
    "name": "ipython",
    "version": 3
   },
   "file_extension": ".py",
   "mimetype": "text/x-python",
   "name": "python",
   "nbconvert_exporter": "python",
   "pygments_lexer": "ipython3",
   "version": "3.6.4"
  }
 },
 "nbformat": 4,
 "nbformat_minor": 2
}
